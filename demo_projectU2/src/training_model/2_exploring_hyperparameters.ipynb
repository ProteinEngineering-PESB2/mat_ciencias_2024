{
 "cells": [
  {
   "cell_type": "code",
   "execution_count": 1,
   "metadata": {},
   "outputs": [
    {
     "name": "stderr",
     "output_type": "stream",
     "text": [
      "/home/david/miniconda3/envs/mate_ciencias2024/lib/python3.9/site-packages/tqdm/auto.py:21: TqdmWarning: IProgress not found. Please update jupyter and ipywidgets. See https://ipywidgets.readthedocs.io/en/stable/user_install.html\n",
      "  from .autonotebook import tqdm as notebook_tqdm\n"
     ]
    }
   ],
   "source": [
    "import pandas as pd\n",
    "from joblib import load, dump\n",
    "\n",
    "from sklearn.ensemble import RandomForestClassifier\n",
    "import optuna\n",
    "from sklearn.model_selection import train_test_split\n",
    "\n",
    "from sklearn.metrics import confusion_matrix, precision_score, accuracy_score, f1_score, recall_score, matthews_corrcoef"
   ]
  },
  {
   "cell_type": "code",
   "execution_count": 2,
   "metadata": {},
   "outputs": [],
   "source": [
    "def get_class_metrics(y_true=None, y_pred=None):\n",
    "    row = [\n",
    "        accuracy_score(y_true=y_true, y_pred=y_pred), \n",
    "        precision_score(y_true=y_true, y_pred=y_pred), \n",
    "        recall_score(y_true=y_true, y_pred=y_pred), \n",
    "        confusion_matrix(y_true=y_true, y_pred=y_pred), \n",
    "        f1_score(y_true=y_true, y_pred=y_pred)\n",
    "    ]\n",
    "\n",
    "    return row"
   ]
  },
  {
   "cell_type": "code",
   "execution_count": 3,
   "metadata": {},
   "outputs": [],
   "source": [
    "def get_metrics(y_true=None, y_predict=None, name_model=\"\"):\n",
    "    row = [\n",
    "        name_model,\n",
    "        precision_score(y_pred=y_predict, y_true=y_true),\n",
    "        accuracy_score(y_true=y_true, y_pred=y_predict),\n",
    "        recall_score(y_true=y_true, y_pred=y_predict),\n",
    "        f1_score(y_true=y_true, y_pred=y_predict),\n",
    "        matthews_corrcoef(y_true=y_true, y_pred=y_predict),\n",
    "    ]\n",
    "    return row"
   ]
  },
  {
   "cell_type": "code",
   "execution_count": 4,
   "metadata": {},
   "outputs": [],
   "source": [
    "df_train = pd.read_csv(\"../../results/4_train_dataset.csv\")\n",
    "df_test_mix = pd.read_csv(\"../../results/4_testing_mix.csv\")\n",
    "df_test_neg = pd.read_csv(\"../../results/4_testing_negatives.csv\")"
   ]
  },
  {
   "cell_type": "code",
   "execution_count": 5,
   "metadata": {},
   "outputs": [],
   "source": [
    "scaler = load(\"../../results/scaler_process.joblib\")"
   ]
  },
  {
   "cell_type": "code",
   "execution_count": 6,
   "metadata": {},
   "outputs": [],
   "source": [
    "response = df_train[\"stroke\"].values\n",
    "df_values = df_train.drop(columns=[\"stroke\"]).values\n",
    "\n",
    "X_train, X_val, y_train, y_val = train_test_split(df_values, response, test_size=.3, random_state=42)"
   ]
  },
  {
   "cell_type": "code",
   "execution_count": 7,
   "metadata": {},
   "outputs": [],
   "source": [
    "matrix_data = []\n",
    "\n",
    "for n in [50, 100, 150, 200, 250, 500, 1000]:\n",
    "    for criterion in [\"gini\", \"entropy\"]:\n",
    "        rf_class = RandomForestClassifier(\n",
    "            n_estimators=n,\n",
    "            criterion=criterion,\n",
    "            random_state=42\n",
    "        )\n",
    "        rf_class.fit(X_train, y_train)\n",
    "\n",
    "        rf_predict_val = rf_class.predict(X_val)\n",
    "\n",
    "        row = get_metrics(y_true=y_val, y_predict=rf_predict_val, name_model=\"RF\")\n",
    "        row.insert(1, n)\n",
    "        row.insert(1, criterion)\n",
    "\n",
    "        matrix_data.append(row)\n",
    "\n",
    "df_performance_val = pd.DataFrame(data=matrix_data, columns=[\"name_model\", \"Criterion\", \"N-estimators\", \"precision_score\", \"accuracy_score\", \"recall_score\", \"f1_score\", \"matthews_corrcoef\"])"
   ]
  },
  {
   "cell_type": "code",
   "execution_count": 8,
   "metadata": {},
   "outputs": [
    {
     "data": {
      "text/html": [
       "<div>\n",
       "<style scoped>\n",
       "    .dataframe tbody tr th:only-of-type {\n",
       "        vertical-align: middle;\n",
       "    }\n",
       "\n",
       "    .dataframe tbody tr th {\n",
       "        vertical-align: top;\n",
       "    }\n",
       "\n",
       "    .dataframe thead th {\n",
       "        text-align: right;\n",
       "    }\n",
       "</style>\n",
       "<table border=\"1\" class=\"dataframe\">\n",
       "  <thead>\n",
       "    <tr style=\"text-align: right;\">\n",
       "      <th></th>\n",
       "      <th>name_model</th>\n",
       "      <th>Criterion</th>\n",
       "      <th>N-estimators</th>\n",
       "      <th>precision_score</th>\n",
       "      <th>accuracy_score</th>\n",
       "      <th>recall_score</th>\n",
       "      <th>f1_score</th>\n",
       "      <th>matthews_corrcoef</th>\n",
       "    </tr>\n",
       "  </thead>\n",
       "  <tbody>\n",
       "    <tr>\n",
       "      <th>1</th>\n",
       "      <td>RF</td>\n",
       "      <td>entropy</td>\n",
       "      <td>50</td>\n",
       "      <td>0.759036</td>\n",
       "      <td>0.766917</td>\n",
       "      <td>0.851351</td>\n",
       "      <td>0.802548</td>\n",
       "      <td>0.525533</td>\n",
       "    </tr>\n",
       "    <tr>\n",
       "      <th>13</th>\n",
       "      <td>RF</td>\n",
       "      <td>entropy</td>\n",
       "      <td>1000</td>\n",
       "      <td>0.750000</td>\n",
       "      <td>0.759398</td>\n",
       "      <td>0.851351</td>\n",
       "      <td>0.797468</td>\n",
       "      <td>0.510243</td>\n",
       "    </tr>\n",
       "    <tr>\n",
       "      <th>11</th>\n",
       "      <td>RF</td>\n",
       "      <td>entropy</td>\n",
       "      <td>500</td>\n",
       "      <td>0.750000</td>\n",
       "      <td>0.759398</td>\n",
       "      <td>0.851351</td>\n",
       "      <td>0.797468</td>\n",
       "      <td>0.510243</td>\n",
       "    </tr>\n",
       "    <tr>\n",
       "      <th>12</th>\n",
       "      <td>RF</td>\n",
       "      <td>gini</td>\n",
       "      <td>1000</td>\n",
       "      <td>0.746988</td>\n",
       "      <td>0.751880</td>\n",
       "      <td>0.837838</td>\n",
       "      <td>0.789809</td>\n",
       "      <td>0.494288</td>\n",
       "    </tr>\n",
       "    <tr>\n",
       "      <th>7</th>\n",
       "      <td>RF</td>\n",
       "      <td>entropy</td>\n",
       "      <td>200</td>\n",
       "      <td>0.741176</td>\n",
       "      <td>0.751880</td>\n",
       "      <td>0.851351</td>\n",
       "      <td>0.792453</td>\n",
       "      <td>0.494956</td>\n",
       "    </tr>\n",
       "    <tr>\n",
       "      <th>10</th>\n",
       "      <td>RF</td>\n",
       "      <td>gini</td>\n",
       "      <td>500</td>\n",
       "      <td>0.738095</td>\n",
       "      <td>0.744361</td>\n",
       "      <td>0.837838</td>\n",
       "      <td>0.784810</td>\n",
       "      <td>0.478869</td>\n",
       "    </tr>\n",
       "    <tr>\n",
       "      <th>5</th>\n",
       "      <td>RF</td>\n",
       "      <td>entropy</td>\n",
       "      <td>150</td>\n",
       "      <td>0.732558</td>\n",
       "      <td>0.744361</td>\n",
       "      <td>0.851351</td>\n",
       "      <td>0.787500</td>\n",
       "      <td>0.479662</td>\n",
       "    </tr>\n",
       "    <tr>\n",
       "      <th>9</th>\n",
       "      <td>RF</td>\n",
       "      <td>entropy</td>\n",
       "      <td>250</td>\n",
       "      <td>0.732558</td>\n",
       "      <td>0.744361</td>\n",
       "      <td>0.851351</td>\n",
       "      <td>0.787500</td>\n",
       "      <td>0.479662</td>\n",
       "    </tr>\n",
       "    <tr>\n",
       "      <th>2</th>\n",
       "      <td>RF</td>\n",
       "      <td>gini</td>\n",
       "      <td>100</td>\n",
       "      <td>0.729412</td>\n",
       "      <td>0.736842</td>\n",
       "      <td>0.837838</td>\n",
       "      <td>0.779874</td>\n",
       "      <td>0.463444</td>\n",
       "    </tr>\n",
       "    <tr>\n",
       "      <th>3</th>\n",
       "      <td>RF</td>\n",
       "      <td>entropy</td>\n",
       "      <td>100</td>\n",
       "      <td>0.729412</td>\n",
       "      <td>0.736842</td>\n",
       "      <td>0.837838</td>\n",
       "      <td>0.779874</td>\n",
       "      <td>0.463444</td>\n",
       "    </tr>\n",
       "    <tr>\n",
       "      <th>4</th>\n",
       "      <td>RF</td>\n",
       "      <td>gini</td>\n",
       "      <td>150</td>\n",
       "      <td>0.729412</td>\n",
       "      <td>0.736842</td>\n",
       "      <td>0.837838</td>\n",
       "      <td>0.779874</td>\n",
       "      <td>0.463444</td>\n",
       "    </tr>\n",
       "    <tr>\n",
       "      <th>8</th>\n",
       "      <td>RF</td>\n",
       "      <td>gini</td>\n",
       "      <td>250</td>\n",
       "      <td>0.724138</td>\n",
       "      <td>0.736842</td>\n",
       "      <td>0.851351</td>\n",
       "      <td>0.782609</td>\n",
       "      <td>0.464350</td>\n",
       "    </tr>\n",
       "    <tr>\n",
       "      <th>6</th>\n",
       "      <td>RF</td>\n",
       "      <td>gini</td>\n",
       "      <td>200</td>\n",
       "      <td>0.724138</td>\n",
       "      <td>0.736842</td>\n",
       "      <td>0.851351</td>\n",
       "      <td>0.782609</td>\n",
       "      <td>0.464350</td>\n",
       "    </tr>\n",
       "    <tr>\n",
       "      <th>0</th>\n",
       "      <td>RF</td>\n",
       "      <td>gini</td>\n",
       "      <td>50</td>\n",
       "      <td>0.702381</td>\n",
       "      <td>0.699248</td>\n",
       "      <td>0.797297</td>\n",
       "      <td>0.746835</td>\n",
       "      <td>0.384746</td>\n",
       "    </tr>\n",
       "  </tbody>\n",
       "</table>\n",
       "</div>"
      ],
      "text/plain": [
       "   name_model Criterion  N-estimators  precision_score  accuracy_score  \\\n",
       "1          RF   entropy            50         0.759036        0.766917   \n",
       "13         RF   entropy          1000         0.750000        0.759398   \n",
       "11         RF   entropy           500         0.750000        0.759398   \n",
       "12         RF      gini          1000         0.746988        0.751880   \n",
       "7          RF   entropy           200         0.741176        0.751880   \n",
       "10         RF      gini           500         0.738095        0.744361   \n",
       "5          RF   entropy           150         0.732558        0.744361   \n",
       "9          RF   entropy           250         0.732558        0.744361   \n",
       "2          RF      gini           100         0.729412        0.736842   \n",
       "3          RF   entropy           100         0.729412        0.736842   \n",
       "4          RF      gini           150         0.729412        0.736842   \n",
       "8          RF      gini           250         0.724138        0.736842   \n",
       "6          RF      gini           200         0.724138        0.736842   \n",
       "0          RF      gini            50         0.702381        0.699248   \n",
       "\n",
       "    recall_score  f1_score  matthews_corrcoef  \n",
       "1       0.851351  0.802548           0.525533  \n",
       "13      0.851351  0.797468           0.510243  \n",
       "11      0.851351  0.797468           0.510243  \n",
       "12      0.837838  0.789809           0.494288  \n",
       "7       0.851351  0.792453           0.494956  \n",
       "10      0.837838  0.784810           0.478869  \n",
       "5       0.851351  0.787500           0.479662  \n",
       "9       0.851351  0.787500           0.479662  \n",
       "2       0.837838  0.779874           0.463444  \n",
       "3       0.837838  0.779874           0.463444  \n",
       "4       0.837838  0.779874           0.463444  \n",
       "8       0.851351  0.782609           0.464350  \n",
       "6       0.851351  0.782609           0.464350  \n",
       "0       0.797297  0.746835           0.384746  "
      ]
     },
     "execution_count": 8,
     "metadata": {},
     "output_type": "execute_result"
    }
   ],
   "source": [
    "df_performance_val.sort_values(by=[\"precision_score\"], ascending=False)"
   ]
  },
  {
   "cell_type": "code",
   "execution_count": 9,
   "metadata": {},
   "outputs": [],
   "source": [
    "from sklearn.model_selection import cross_validate"
   ]
  },
  {
   "cell_type": "code",
   "execution_count": 10,
   "metadata": {},
   "outputs": [],
   "source": [
    "def select_algorithm(trial):\n",
    "    options_criterion = trial.suggest_categorical(\"criterion\", ['gini', 'entropy', 'log_loss'])\n",
    "    options_n_estimators = trial.suggest_int(\"n_estimators\", 10, 3000)\n",
    "    options_min_samples_split = trial.suggest_int(\"min_samples_split\", 2, 30)\n",
    "    \n",
    "    model = RandomForestClassifier(\n",
    "        random_state=42,\n",
    "        n_estimators=options_n_estimators,\n",
    "        criterion=options_criterion,\n",
    "        min_samples_split=options_min_samples_split\n",
    "    )\n",
    "\n",
    "    return model"
   ]
  },
  {
   "cell_type": "code",
   "execution_count": 11,
   "metadata": {},
   "outputs": [],
   "source": [
    "metrics_list = [\"accuracy\", \"recall\", \"precision\", \"f1\"]"
   ]
  },
  {
   "cell_type": "code",
   "execution_count": 12,
   "metadata": {},
   "outputs": [],
   "source": [
    "def objective(trial):\n",
    "    classifier_obj = select_algorithm(trial)\n",
    "    scores = cross_validate(classifier_obj, X_train, y_train, cv=5, scoring=metrics_list)\n",
    "    return scores[\"test_precision\"].mean() #puede ser recall"
   ]
  },
  {
   "cell_type": "code",
   "execution_count": 13,
   "metadata": {},
   "outputs": [
    {
     "name": "stderr",
     "output_type": "stream",
     "text": [
      "[I 2024-10-15 20:28:04,481] A new study created in memory with name: no-name-342d78f6-da49-41d5-8c96-055df048e67c\n",
      "[I 2024-10-15 20:28:21,369] Trial 0 finished with value: 0.7463071618342181 and parameters: {'criterion': 'entropy', 'n_estimators': 2462, 'min_samples_split': 20}. Best is trial 0 with value: 0.7463071618342181.\n",
      "[I 2024-10-15 20:28:40,108] Trial 1 finished with value: 0.7463071618342181 and parameters: {'criterion': 'log_loss', 'n_estimators': 2865, 'min_samples_split': 18}. Best is trial 0 with value: 0.7463071618342181.\n",
      "[I 2024-10-15 20:28:48,676] Trial 2 finished with value: 0.7358295240221151 and parameters: {'criterion': 'entropy', 'n_estimators': 1152, 'min_samples_split': 13}. Best is trial 0 with value: 0.7463071618342181.\n",
      "[I 2024-10-15 20:28:58,033] Trial 3 finished with value: 0.7361543197306706 and parameters: {'criterion': 'gini', 'n_estimators': 1510, 'min_samples_split': 9}. Best is trial 0 with value: 0.7463071618342181.\n",
      "[I 2024-10-15 20:29:09,811] Trial 4 finished with value: 0.7445867317266911 and parameters: {'criterion': 'gini', 'n_estimators': 1958, 'min_samples_split': 24}. Best is trial 0 with value: 0.7463071618342181.\n",
      "[I 2024-10-15 20:29:28,001] Trial 5 finished with value: 0.7382301060569313 and parameters: {'criterion': 'gini', 'n_estimators': 2829, 'min_samples_split': 6}. Best is trial 0 with value: 0.7463071618342181.\n",
      "[I 2024-10-15 20:29:36,047] Trial 6 finished with value: 0.7416700650600244 and parameters: {'criterion': 'entropy', 'n_estimators': 1544, 'min_samples_split': 24}. Best is trial 0 with value: 0.7463071618342181.\n",
      "[I 2024-10-15 20:29:46,145] Trial 7 finished with value: 0.7265578565578565 and parameters: {'criterion': 'entropy', 'n_estimators': 1789, 'min_samples_split': 5}. Best is trial 0 with value: 0.7463071618342181.\n",
      "[I 2024-10-15 20:29:52,208] Trial 8 finished with value: 0.7398555489309923 and parameters: {'criterion': 'gini', 'n_estimators': 1022, 'min_samples_split': 23}. Best is trial 0 with value: 0.7463071618342181.\n",
      "[I 2024-10-15 20:29:55,427] Trial 9 finished with value: 0.7463071618342181 and parameters: {'criterion': 'entropy', 'n_estimators': 517, 'min_samples_split': 20}. Best is trial 0 with value: 0.7463071618342181.\n"
     ]
    }
   ],
   "source": [
    "trials = 10\n",
    "\n",
    "algorithm = \"RandomForestClassifier\"\n",
    "\n",
    "study = optuna.create_study(directions=[\"maximize\"])\n",
    "study.optimize(objective, n_trials=trials)\n",
    "model = eval(f\"{algorithm}(**study.best_params)\")\n",
    "model.fit(X_train, y_train)\n",
    "response_cv = cross_validate(model, X_train, y_train, cv=5,\n",
    "                                    scoring=[\"accuracy\", \"precision\", \"f1\", \"recall\"])"
   ]
  },
  {
   "cell_type": "code",
   "execution_count": 14,
   "metadata": {},
   "outputs": [
    {
     "data": {
      "text/plain": [
       "\"{'criterion': 'entropy', 'n_estimators': 2462, 'min_samples_split': 20}\""
      ]
     },
     "execution_count": 14,
     "metadata": {},
     "output_type": "execute_result"
    }
   ],
   "source": [
    "str(study.best_params)"
   ]
  },
  {
   "cell_type": "code",
   "execution_count": 15,
   "metadata": {},
   "outputs": [
    {
     "data": {
      "text/plain": [
       "[0.7443609022556391,\n",
       " np.float64(0.717391304347826),\n",
       " np.float64(0.8918918918918919),\n",
       " array([[33, 26],\n",
       "        [ 8, 66]]),\n",
       " np.float64(0.7951807228915663)]"
      ]
     },
     "execution_count": 15,
     "metadata": {},
     "output_type": "execute_result"
    }
   ],
   "source": [
    "import numpy as np\n",
    "\n",
    "y_pred = model.predict(X_val)\n",
    "    \n",
    "cv_accuracy = np.mean(response_cv[\"test_accuracy\"])\n",
    "cv_precision = np.mean(response_cv[\"test_precision\"])\n",
    "cv_f1 = np.mean(response_cv[\"test_f1\"])\n",
    "cv_recall = np.mean(response_cv[\"test_recall\"])\n",
    "\n",
    "row_training = [cv_accuracy, cv_precision, cv_f1, cv_recall]\n",
    "get_class_metrics(y_pred=y_pred, y_true=y_val)"
   ]
  },
  {
   "cell_type": "code",
   "execution_count": 16,
   "metadata": {},
   "outputs": [
    {
     "data": {
      "text/plain": [
       "[np.float64(0.7993125330512957),\n",
       " np.float64(0.7463071618342181),\n",
       " np.float64(0.7977396271379728),\n",
       " np.float64(0.8608374384236454)]"
      ]
     },
     "execution_count": 16,
     "metadata": {},
     "output_type": "execute_result"
    }
   ],
   "source": [
    "row_training"
   ]
  },
  {
   "cell_type": "code",
   "execution_count": 17,
   "metadata": {},
   "outputs": [],
   "source": [
    "from sklearn.metrics import RocCurveDisplay, ConfusionMatrixDisplay"
   ]
  },
  {
   "cell_type": "code",
   "execution_count": 18,
   "metadata": {},
   "outputs": [
    {
     "data": {
      "text/plain": [
       "<sklearn.metrics._plot.confusion_matrix.ConfusionMatrixDisplay at 0x70a71679d190>"
      ]
     },
     "execution_count": 18,
     "metadata": {},
     "output_type": "execute_result"
    },
    {
     "data": {
      "image/png": "[encoded data removed]",
      "text/plain": [
       "<Figure size 640x480 with 2 Axes>"
      ]
     },
     "metadata": {},
     "output_type": "display_data"
    }
   ],
   "source": [
    "ConfusionMatrixDisplay.from_estimator(model, X_val, y_val)"
   ]
  },
  {
   "cell_type": "code",
   "execution_count": 19,
   "metadata": {},
   "outputs": [
    {
     "data": {
      "text/plain": [
       "<sklearn.metrics._plot.roc_curve.RocCurveDisplay at 0x70a7165daaf0>"
      ]
     },
     "execution_count": 19,
     "metadata": {},
     "output_type": "execute_result"
    },
    {
     "data": {
      "image/png": "[encoded data removed]",
      "text/plain": [
       "<Figure size 640x480 with 1 Axes>"
      ]
     },
     "metadata": {},
     "output_type": "display_data"
    }
   ],
   "source": [
    "RocCurveDisplay.from_estimator(model, X_train, y_train)"
   ]
  },
  {
   "cell_type": "code",
   "execution_count": 20,
   "metadata": {},
   "outputs": [
    {
     "name": "stderr",
     "output_type": "stream",
     "text": [
      "/home/david/miniconda3/envs/mate_ciencias2024/lib/python3.9/site-packages/tpot/builtins/__init__.py:36: UserWarning: Warning: optional dependency `torch` is not available. - skipping import of NN models.\n",
      "  warnings.warn(\"Warning: optional dependency `torch` is not available. - skipping import of NN models.\")\n"
     ]
    }
   ],
   "source": [
    "from tpot import TPOTClassifier"
   ]
  },
  {
   "cell_type": "code",
   "execution_count": 21,
   "metadata": {},
   "outputs": [
    {
     "name": "stdout",
     "output_type": "stream",
     "text": [
      "                                                                              \n",
      "Generation 1 - Current best internal CV score: 0.818667371760973\n",
      "                                                                              \n",
      "Generation 2 - Current best internal CV score: 0.818667371760973\n",
      "                                                                              \n",
      "Generation 3 - Current best internal CV score: 0.818667371760973\n",
      "                                                                              \n",
      "Generation 4 - Current best internal CV score: 0.818667371760973\n",
      "                                                                              \n",
      "Generation 5 - Current best internal CV score: 0.818667371760973\n",
      "                                                                              \n",
      "Generation 6 - Current best internal CV score: 0.818667371760973\n",
      "                                                                              \n",
      "Generation 7 - Current best internal CV score: 0.8188260179799048\n",
      "                                                                              \n",
      "Generation 8 - Current best internal CV score: 0.8188260179799048\n",
      "                                                                                \n",
      "Generation 9 - Current best internal CV score: 0.8250661025912216\n",
      "                                                                                \n",
      "Generation 10 - Current best internal CV score: 0.8252247488101535\n",
      "                                                                                \n",
      "Generation 11 - Current best internal CV score: 0.8252247488101535\n",
      "                                                                                \n",
      "10.09 minutes have elapsed. TPOT will close down.                               \n",
      "TPOT closed during evaluation in one generation.\n",
      "WARNING: TPOT may not provide a good pipeline if TPOT is stopped/interrupted in a early generation.\n",
      "                                                                                \n",
      "                                                                                \n",
      "TPOT closed prematurely. Will use the current best pipeline.\n",
      "                                                                                \n",
      "Best pipeline: GaussianNB(XGBClassifier(CombineDFs(input_matrix, input_matrix), learning_rate=0.5, max_depth=5, min_child_weight=15, n_estimators=100, n_jobs=1, subsample=0.9500000000000001, verbosity=0))\n",
      "0.7518796992481203\n"
     ]
    }
   ],
   "source": [
    "tpot = TPOTClassifier(verbosity=2, max_time_mins=10)\n",
    "tpot.fit(X_train, y_train)\n",
    "print(tpot.score(X_val, y_val))\n",
    "tpot.export('tpot_demo.py')"
   ]
  }
 ],
 "metadata": {
  "kernelspec": {
   "display_name": "mate_ciencias2024",
   "language": "python",
   "name": "python3"
  },
  "language_info": {
   "codemirror_mode": {
    "name": "ipython",
    "version": 3
   },
   "file_extension": ".py",
   "mimetype": "text/x-python",
   "name": "python",
   "nbconvert_exporter": "python",
   "pygments_lexer": "ipython3",
   "version": "3.9.19"
  }
 },
 "nbformat": 4,
 "nbformat_minor": 2
}
